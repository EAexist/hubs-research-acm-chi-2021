{
 "cells": [
  {
   "cell_type": "markdown",
   "metadata": {},
   "source": [
    "# Generate Social Metrics\n",
    "\n",
    "Using our sampled files from [Data Resampling](1.DataResampling.ipynb) notebook, we generate proxemic disstances from all the participants in Mozilla Hubs in each of the four rooms."
   ]
  },
  {
   "cell_type": "markdown",
   "metadata": {},
   "source": [
    "## Using this Notebook, Code, or Data\n",
    "This notebook and all of the resources included here are released on a [Mozilla Public License 2.0](https://www.mozilla.org/en-US/MPL/2.0/).  The data is released under [CC-BY-NC-SA 4.0](https://creativecommons.org/licenses/by-nc-sa/4.0/).  To cite the peper, the bespoke logging client, the dataset, or this notebook please see the [README.md](https://github.com/ayman/hubs-research-2021/blob/main/README.md) or the [DOI in the ACM Digital Library](https://doi.org/10.1145/3411764.3445729)."
   ]
  },
  {
   "cell_type": "markdown",
   "metadata": {},
   "source": [
    "## Requirements"
   ]
  },
  {
   "cell_type": "code",
   "execution_count": 1,
   "metadata": {},
   "outputs": [],
   "source": [
    "import pickle\n",
    "import pandas as pd\n",
    "import numpy as np\n",
    "import scipy\n",
    "import matplotlib as plt\n",
    "from scipy import spatial"
   ]
  },
  {
   "cell_type": "code",
   "execution_count": 2,
   "metadata": {},
   "outputs": [],
   "source": [
    "main_room = pd.read_csv('outputs/main_room_resampled_0.167.csv')\n",
    "a_room = pd.read_csv('outputs/room_a_resampled_0.167.csv')\n",
    "b_room = pd.read_csv('outputs/room_b_resampled_0.167.csv')\n",
    "c_room = pd.read_csv('outputs/room_c_resampled_0.167.csv')"
   ]
  },
  {
   "cell_type": "code",
   "execution_count": 3,
   "metadata": {},
   "outputs": [],
   "source": [
    "keynote_slice = main_room[('2020-04-29 14:30:00' <= main_room.frame_id)\n",
    "                          & (main_room.frame_id < '2020-04-29 15:00:00')]\n",
    "break_slice1 = main_room[('2020-04-29 15:05:00' <= main_room.frame_id)\n",
    "                         & (main_room.frame_id < '2020-04-29 15:20:00')]\n",
    "\n",
    "short_presentations = main_room[('2020-04-29 15:20:00' <= main_room.frame_id)\n",
    "                                & (main_room.frame_id < '2020-04-29 16:10:00')]\n",
    "break_slice2 = main_room[('2020-04-29 16:10:00' <= main_room.frame_id)\n",
    "                         & (main_room.frame_id < '2020-04-29 16:30:00')]\n",
    "\n",
    "def break_out_room_slice(df,\n",
    "                         session1=['2020-04-29 16:30:00', '2020-04-29 17:00:00'],\n",
    "                         session2=['2020-04-29 17:15:00', '2020-04-29 17:45:00']):\n",
    "    slices = []\n",
    "    for session in [session1, session2]:\n",
    "        slices.append(df[(session[0] <= df.frame_id)\n",
    "                         & (df.frame_id < session[1])])\n",
    "    return pd.concat(slices)\n",
    "\n",
    "a_room_slice = break_out_room_slice(a_room)\n",
    "b_room_slice = break_out_room_slice(b_room)\n",
    "c_room_slice = break_out_room_slice(c_room)"
   ]
  },
  {
   "cell_type": "code",
   "execution_count": 4,
   "metadata": {},
   "outputs": [],
   "source": [
    "def prep_slice(my_slice):\n",
    "    \"\"\"Helper Function that sets up a DF for the metric table calculations\"\"\"\n",
    "    # Setup indices for all the UUIDs in this data slice\n",
    "    uuids = my_slice.uuid.sort_values().unique()\n",
    "    uuids_ix = {uuid: ix for ix, uuid in enumerate(uuids)}\n",
    "\n",
    "    # Setup indices for all the FRAMES in this data slice\n",
    "    frames = my_slice.frame_id.sort_values().unique()\n",
    "    frames_ix = {frame_id: ix for ix, frame_id in enumerate(frames)}\n",
    "\n",
    "    by_frame = my_slice.sort_values(\"frame_id\").groupby('frame_id')\n",
    "\n",
    "    return uuids, uuids_ix, frames, frames_ix, by_frame\n",
    "\n",
    "# uuids, uuids_ix, frames, frames_ix, by_frame = prep_slice(c_room_slice)\n",
    "# print (len(uuids), len(frames))\n",
    "# print (len(main_room.uuid.unique()))"
   ]
  },
  {
   "cell_type": "code",
   "execution_count": 5,
   "metadata": {},
   "outputs": [],
   "source": [
    "# For each frame in the data slice, create a pairwise matrix of distances between each user\n",
    "# This is stored in a dictionary where the key is the frame time stamp as a string in the distance matrix is XYZ position for each UUID\n",
    "\n",
    "# Takes a DF of frames grouped by Frame ID, a list of unique UUIDs in this df, and a dict matching uuids to indices (int)\n",
    "def distance_mat(by_frame, uuids, uuids_ix):\n",
    "\n",
    "    # create empty dict, create dictionary where each frame_id (key) matches a matrix of pairwise distances (value)\n",
    "    frame_dist_mat = {}\n",
    "\n",
    "    for frame, group in by_frame:\n",
    "        # Setup\n",
    "        users_xyz = np.full((len(uuids), 3), np.nan)\n",
    "\n",
    "        for row_index, row in group.iterrows():\n",
    "            users_xyz[uuids_ix[row.uuid]] = [row.position_x,\n",
    "                                             row.position_y,\n",
    "                                             row.position_z]\n",
    "\n",
    "        # Pairwise euclidian distance\n",
    "        user_dist_mat = scipy.spatial.distance.pdist(users_xyz,\n",
    "                                                     metric='euclidean')\n",
    "        user_dist_mat = scipy.spatial.distance.squareform(user_dist_mat,\n",
    "                                                          force='tomatrix',\n",
    "                                                          checks=False)\n",
    "\n",
    "        frame_dist_mat[frame] = user_dist_mat\n",
    "\n",
    "    return frame_dist_mat"
   ]
  },
  {
   "cell_type": "code",
   "execution_count": 6,
   "metadata": {},
   "outputs": [],
   "source": [
    "# For each frame in the data slice, create a pairwise matrix of angular distances between each user\n",
    "# This angle is:  given a user A's position and direction, what is the relative position of user B in radians\n",
    "# This is stored in a dictions where the key is the frame time stamp as a string \n",
    "\n",
    "def angular_distance(u, v):\n",
    "    dif_xyz =   v[:3] -  u[:3]\n",
    "    len_dif = np.linalg.norm(dif_xyz)\n",
    "    dif_xyz = dif_xyz/len_dif\n",
    "    # sin(40deg) = .64 (>.64 is out of FOV)\n",
    "    d_angle = 1-np.sum(u[3:6] * dif_xyz)\n",
    "    return d_angle\n",
    "    \n",
    "\n",
    "def angular_mat(by_frame, uuids, uuids_ix):\n",
    "    \n",
    "    frame_angle_mat = {}\n",
    "\n",
    "    for frame, group in by_frame:\n",
    "        # Setup\n",
    "        users_direction_xyz = np.full((len(uuids), 6), np.nan)\n",
    "        for row_index, row in group.iterrows():\n",
    "            users_direction_xyz[uuids_ix[row.uuid]] = [row.position_x, row.position_y, row.position_z, row.direction_x, row.direction_y, row.direction_z]\n",
    "\n",
    "        # Pairwise angular distance\n",
    "        user_angle = scipy.spatial.distance.pdist(users_direction_xyz, angular_distance) \n",
    "        user_angle = scipy.spatial.distance.squareform(user_angle, force='tomatrix', checks=False)\n",
    "        frame_angle_mat[frame] = user_angle\n",
    "    \n",
    "    return frame_angle_mat"
   ]
  },
  {
   "cell_type": "code",
   "execution_count": 7,
   "metadata": {},
   "outputs": [],
   "source": [
    "def closest_dist(dist_mat, uuids, frames_ix):\n",
    "    \"\"\"Return closest standing person in each frame.\"\"\"\n",
    "    # Closest person\n",
    "    # TODO Check whether 0.0 or nans should be used\n",
    "    uuid_mins = np.full((len(uuids), len(dist_mat)), np.nan)\n",
    "\n",
    "    for frame in dist_mat:\n",
    "\n",
    "        for uuid in range(len(dist_mat[frame])):\n",
    "            row = dist_mat[frame][uuid]\n",
    "            closest = np.nanmin(row[np.nonzero(row)])\n",
    "\n",
    "            if not np.isnan(closest):\n",
    "                uuid_mins[uuid][frames_ix[frame]] = closest\n",
    "#     print (uuid_mins)\n",
    "    return uuid_mins"
   ]
  },
  {
   "cell_type": "code",
   "execution_count": 8,
   "metadata": {},
   "outputs": [],
   "source": [
    "# For each frame, calculate the number of people at different social distances (Hall Proxemics)\n",
    "\n",
    "# Intimate Distance .15 - .46 Meters\n",
    "# Personal Distance (close) .46 - .76 Meters\n",
    "# Personal Distance (far) .76 - 1.22 Meters\n",
    "# Social Distance (close) 1.22 - 2.1 Meters\n",
    "# Social Distance (far) 2.1 - 3.6 Meters\n",
    "# Public Distance (close) 3.6 - 7.6 Meters\n",
    "# Public Distance (far) 7.6 + Meters\n",
    "def distance_counts(min_dist, max_dist, frame_dist, frames_ix, uuids):\n",
    "    \"\"\"Count number of people nearby in a given social distance. \n",
    "    Return as a 2d array distances[uuid_ix][frame_ix]\"\"\"\n",
    "    count_array = np.full((len(uuids), len(frame_dist)), 0.0)\n",
    "    # iterate through every frame (dictionary) in the distance matrix\n",
    "    for frame in frame_dist:\n",
    "        # For each UUID do a thing\n",
    "        for uuid in range(len(frame_dist[frame])):\n",
    "            row = frame_dist[frame][uuid]\n",
    "            count = np.count_nonzero((row >= min_dist) & (row < max_dist))\n",
    "            count_array[uuid][frames_ix[frame]] = count\n",
    "    return count_array"
   ]
  },
  {
   "cell_type": "code",
   "execution_count": 9,
   "metadata": {},
   "outputs": [],
   "source": [
    "# Helper function for looking at the ...\n",
    "def print_zone_counts(uuids, frame_dist_mat, frames_ix):\n",
    "    \"\"\"Helper function for looking at the various intimate, \n",
    "    personal, social, and public distances.\"\"\"\n",
    "    uuid_count_intimate = distance_counts(.01, .46,\n",
    "                                          frame_dist_mat,\n",
    "                                          frames_ix,\n",
    "                                          uuids)\n",
    "    uuid_count_personal = distance_counts(.46,\n",
    "                                          1.22,\n",
    "                                          frame_dist_mat,\n",
    "                                          frames_ix,\n",
    "                                          uuids)\n",
    "    uuid_count_social = distance_counts(1.22,\n",
    "                                        3.6,\n",
    "                                        frame_dist_mat,\n",
    "                                        frames_ix,\n",
    "                                        uuids)\n",
    "    uuid_count_public = distance_counts(3.6,\n",
    "                                        7.6,\n",
    "                                        frame_dist_mat,\n",
    "                                        frames_ix,\n",
    "                                        uuids)\n",
    "    uuid_count_public_far = distance_counts(7.6,\n",
    "                                            100000000,\n",
    "                                            frame_dist_mat,\n",
    "                                            frames_ix,\n",
    "                                            uuids)\n",
    "\n",
    "    for distance in [uuid_count_intimate,\n",
    "                     uuid_count_personal,\n",
    "                     uuid_count_social,\n",
    "                     uuid_count_public,\n",
    "                     uuid_count_public_far]:\n",
    "        print(np.mean(distance), np.median(distance), np.max(distance))"
   ]
  },
  {
   "cell_type": "code",
   "execution_count": 10,
   "metadata": {},
   "outputs": [
    {
     "name": "stderr",
     "output_type": "stream",
     "text": [
      "<ipython-input-7-6a11f8494aff>:11: RuntimeWarning: All-NaN slice encountered\n",
      "  closest = np.nanmin(row[np.nonzero(row)])\n"
     ]
    }
   ],
   "source": [
    "#  Calculate some matrices for the social metrics for proxemic analysis.\n",
    "\n",
    "# The distance matrix is defined above in function distance_mat\n",
    "# The angular distance is defined above in the angular mat\n",
    "# The closest distance\n",
    "\n",
    "# Keynote\n",
    "\n",
    "def social_matrices(slc):\n",
    "    uuids, uuids_ix, frames, frames_ix, by_frame = prep_slice(slc)\n",
    "    matrices = {}\n",
    "    matrices[\"dist_mat\"] = distance_mat(by_frame, uuids, uuids_ix)\n",
    "    matrices[\"angular_mat\"] = angular_mat(by_frame, uuids, uuids_ix)\n",
    "    matrices[\"mins_by_frame\"] = closest_dist(matrices[\"dist_mat\"], \n",
    "                                             uuids, \n",
    "                                             frames_ix)\n",
    "    matrices[\"slice\"] = slc\n",
    "    return matrices\n",
    "\n",
    "named_matrices = {}\n",
    "for name, slc in [(\"keynote\", keynote_slice), (\"break_1\", break_slice1),\n",
    "                  (\"a_room\", a_room_slice),  (\"b_room\", b_room_slice),\n",
    "                  (\"c_room\", c_room_slice), (\"break_2\", break_slice2)]:\n",
    "    named_matrices[name] = social_matrices(slc)"
   ]
  },
  {
   "cell_type": "code",
   "execution_count": 11,
   "metadata": {},
   "outputs": [
    {
     "name": "stdout",
     "output_type": "stream",
     "text": [
      "0.5408637873754153\n"
     ]
    }
   ],
   "source": [
    "# Example Metric - Visual Attention during a Keynote Talk\n",
    "uuids, uuids_ix, frames, frames_ix, by_frame = prep_slice(keynote_slice)\n",
    "\n",
    "# Angles to Keynote Speaker\n",
    "speaker = \"12a9924c-fbc4-4267-a26e-7c65af061f01\"\n",
    "\n",
    "time_in_view = np.full(\n",
    "    (len(uuids), len(named_matrices[\"keynote\"][\"angular_mat\"])), False)\n",
    "\n",
    "for frame in named_matrices[\"keynote\"][\"angular_mat\"]:\n",
    "    for i in range(len(named_matrices[\"keynote\"][\"angular_mat\"][frame])):\n",
    "        row = named_matrices[\"keynote\"][\"angular_mat\"][frame][i]\n",
    "\n",
    "        if (row[uuids_ix[speaker]] < .64):\n",
    "            time_in_view[i][frames_ix[frame]] = True\n",
    "perc = []\n",
    "# Percentage of time attending to Speaker\n",
    "for uuid in range(len(time_in_view)):\n",
    "    row = time_in_view[uuid]\n",
    "    tot = np.sum(row) / len(row)\n",
    "    if (tot > 0.05) & (tot != 1.0):\n",
    "        perc.append(tot)\n",
    "        \n",
    "print (np.average(perc))        "
   ]
  },
  {
   "cell_type": "markdown",
   "metadata": {},
   "source": [
    "Pickle all the matrics for these slices for visualizing next."
   ]
  },
  {
   "cell_type": "code",
   "execution_count": 13,
   "metadata": {},
   "outputs": [],
   "source": [
    "with open(\"outputs/social_metrics.pkl\", \"wb\") as f:\n",
    "    pickle.dump(named_matrices, f, protocol=-1)"
   ]
  },
  {
   "cell_type": "markdown",
   "metadata": {},
   "source": [
    "Next visit the <a href=\"3.VisualisingSocialMetrics.ipynb\">Visualizing Social Metrics</a> notebook."
   ]
  }
 ],
 "metadata": {
  "kernelspec": {
   "display_name": "Python 3",
   "language": "python",
   "name": "python3"
  },
  "language_info": {
   "codemirror_mode": {
    "name": "ipython",
    "version": 3
   },
   "file_extension": ".py",
   "mimetype": "text/x-python",
   "name": "python",
   "nbconvert_exporter": "python",
   "pygments_lexer": "ipython3",
   "version": "3.8.5"
  }
 },
 "nbformat": 4,
 "nbformat_minor": 2
}
